{
 "cells": [
  {
   "cell_type": "code",
   "execution_count": null,
   "id": "aaa049ca",
   "metadata": {},
   "outputs": [],
   "source": [
    "import pandas as pd\n",
    "from bs4 import BeautifulSoup\n",
    "import requests\n",
    "\n",
    "search = input('Looking for: ').replace(' ','+')\n",
    "no_of_pages = input('Pages to be scraped: ')\n",
    "city = input('City:').replace(' ','+')\n",
    "\n",
    "info = pd.DataFrame()\n",
    "\n",
    "for pages in range(1,int(no_of_pages)+1):\n",
    "    html_text = requests.get(f'https://www.yellowpages.com/search?search_terms={search}&geo_location_terms={city}%2C+CA&page={pages}').text\n",
    "    soup = BeautifulSoup(html_text, 'lxml')\n",
    "    listings = soup.find('div', class_='search-results organic').find_all('div', class_='result')\n",
    "    for index, value in enumerate(listings):\n",
    "        try:\n",
    "            business_name = listings[index].div.div.find('div', class_ = 'info').find('div', class_ ='info-section info-primary').h2.a.span.text\n",
    "            business_contact = listings[index].div.div.find('div', class_ = 'info').find('div', class_ ='info-section info-secondary').find('div', class_ = 'phones phone primary').text\n",
    "            business_street = listings[index].div.div.find('div', class_ = 'info').find('div', class_ ='info-section info-secondary').find('div', class_ = 'adr').find('div', class_ = 'street-address').text\n",
    "            business_locality = listings[index].div.div.find('div', class_ = 'info').find('div', class_ ='info-section info-secondary').find('div', class_ = 'adr').find('div', class_ = 'locality').text\n",
    "            business_link = listings[index].div.div.find('div', class_ = 'info').find('div', class_ ='info-section info-primary').h2.a.get('href')\n",
    "            print(f'Name: {business_name}\\nContact: {business_contact}\\nAddress: {business_street}, {business_locality}\\nLink: www.yellowpages.com{business_link}')\n",
    "            info.loc[len(info),['Name', 'Contact', 'Address', 'Link']] = [business_name, business_contact, f'{business_street},{business_locality}', f'www.yellowpages.com{business_link}']\n",
    "        except:\n",
    "            pass\n",
    "\n",
    "info.to_csv(f'{search}.csv')"
   ]
  },
  {
   "cell_type": "code",
   "execution_count": null,
   "id": "5b547600",
   "metadata": {},
   "outputs": [],
   "source": []
  }
 ],
 "metadata": {
  "kernelspec": {
   "display_name": "Python 3 (ipykernel)",
   "language": "python",
   "name": "python3"
  },
  "language_info": {
   "codemirror_mode": {
    "name": "ipython",
    "version": 3
   },
   "file_extension": ".py",
   "mimetype": "text/x-python",
   "name": "python",
   "nbconvert_exporter": "python",
   "pygments_lexer": "ipython3",
   "version": "3.9.12"
  }
 },
 "nbformat": 4,
 "nbformat_minor": 5
}
